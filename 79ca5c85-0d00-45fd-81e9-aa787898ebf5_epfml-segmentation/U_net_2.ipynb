{
 "cells": [
  {
   "cell_type": "code",
   "execution_count": 16,
   "metadata": {},
   "outputs": [
    {
     "name": "stdout",
     "output_type": "stream",
     "text": [
      "The autoreload extension is already loaded. To reload it, use:\n",
      "  %reload_ext autoreload\n"
     ]
    }
   ],
   "source": [
    "# Useful starting lines\n",
    "%matplotlib inline\n",
    "import numpy as np\n",
    "import matplotlib.pyplot as plt\n",
    "import matplotlib.image as mpimg\n",
    "import torch\n",
    "import torch.nn as nn\n",
    "from torch.autograd import Variable\n",
    "import pandas as pd\n",
    "import os,sys\n",
    "import io\n",
    "from PIL import Image\n",
    "import tensorflow as tf\n",
    "from IPython.display import clear_output\n",
    "import tensorflow_datasets as tfds\n",
    "import tensorflow.io as tfio\n",
    "from glob import glob\n",
    "import time\n",
    "import datetime\n",
    "from tensorflow import keras\n",
    "from tensorflow.keras import layers\n",
    "from keras.models import *\n",
    "from keras.layers import *\n",
    "from sklearn.preprocessing import MinMaxScaler\n",
    "%load_ext autoreload\n",
    "%autoreload 2"
   ]
  },
  {
   "cell_type": "code",
   "execution_count": 195,
   "metadata": {},
   "outputs": [
    {
     "name": "stdout",
     "output_type": "stream",
     "text": [
      "Loading 80 images\n",
      "satImage_052.png\n",
      "Loading 80 images\n",
      "satImage_052.png\n"
     ]
    }
   ],
   "source": [
    "# Helper functions\n",
    "\n",
    "def load_image(infilename):\n",
    "    data = mpimg.imread(infilename)\n",
    "    return data\n",
    "\n",
    "def img_float_to_uint8(img):\n",
    "    rimg = img - np.min(img)\n",
    "    rimg = (rimg / np.max(rimg) * 255).round().astype(np.uint8)\n",
    "    return rimg\n",
    "\n",
    "def img_crop(im, w, h):\n",
    "    list_patches = []\n",
    "    imgwidth = im.shape[0]\n",
    "    imgheight = im.shape[1]\n",
    "    is_2d = len(im.shape) < 3\n",
    "    for i in range(0,imgheight,h):\n",
    "        for j in range(0,imgwidth,w):\n",
    "            if is_2d:\n",
    "                im_patch = im[j:j+w, i:i+h]\n",
    "            else:\n",
    "                im_patch = im[j:j+w, i:i+h, :]\n",
    "            list_patches.append(im_patch)\n",
    "    return list_patches\n",
    "\n",
    "#Loaded a set of images\n",
    "root_dir = \"training/\"\n",
    "\n",
    "image_dir = root_dir + \"images/\"\n",
    "files = os.listdir(image_dir)\n",
    "n = min(80, len(files)) # Load maximum 20 images\n",
    "print(\"Loading \" + str(n) + \" images\")\n",
    "imgs = [load_image(image_dir + files[i]) for i in range(n)]\n",
    "print(files[0])\n",
    "\n",
    "gt_dir = root_dir + \"groundtruth/\"\n",
    "print(\"Loading \" + str(n) + \" images\")\n",
    "gt_imgs = [load_image(gt_dir + files[i]) for i in range(n)]\n",
    "print(files[0])\n",
    "\n",
    "#n = 10 # Only use 10 images for training\n",
    "\n",
    "\n"
   ]
  },
  {
   "cell_type": "code",
   "execution_count": 196,
   "metadata": {},
   "outputs": [
    {
     "name": "stdout",
     "output_type": "stream",
     "text": [
      "(1280, 100, 100, 3)\n"
     ]
    }
   ],
   "source": [
    "# Extract patches from input images\n",
    "patch_size = 100 # each patch is 16*16 pixels\n",
    "\n",
    "img_patches = [img_crop(imgs[i], patch_size, patch_size) for i in range(n)]\n",
    "gt_patches = [img_crop(gt_imgs[i], patch_size, patch_size) for i in range(n)]\n",
    "# print(len(img_crop(imgs[0],patch_size,patch_size)))\n",
    "# print(len(img_patches))\n",
    "# print(len(img_patches[0]))\n",
    "# Linearize list of patches\n",
    "img_patches = np.asarray([img_patches[i][j] for i in range(len(img_patches)) for j in range(len(img_patches[i]))])\n",
    "gt_patches =  np.asarray([gt_patches[i][j] for i in range(len(gt_patches)) for j in range(len(gt_patches[i]))])\n",
    "# print(len(img_patches))\n",
    "print(img_patches.shape)"
   ]
  },
  {
   "cell_type": "code",
   "execution_count": 197,
   "metadata": {},
   "outputs": [],
   "source": [
    "image_dataset = np.array(img_patches)\n",
    "mask_dataset = np.array(gt_patches)\n",
    "mask_dataset = np.expand_dims(mask_dataset, axis = 3)\n",
    "\n",
    "\n",
    "#scaler = MinMaxScaler()\n",
    "#mask_dataset = scaler.fit_transform(mask_dataset.reshape(-1, mask_dataset.shape[-1])).reshape(mask_dataset.shape)"
   ]
  },
  {
   "cell_type": "code",
   "execution_count": 199,
   "metadata": {},
   "outputs": [
    {
     "name": "stdout",
     "output_type": "stream",
     "text": [
      "Image data shape is:  (1280, 100, 100, 3)\n",
      "Mask data shape is:  (1280, 100, 100, 1)\n",
      "Max pixel value in image is:  1.0\n",
      "Max pixel value in mask is:  0.92941177\n",
      "Labels in the mask are :  [0.         0.00392157 0.00784314 0.01176471 0.01568628 0.01960784\n",
      " 0.02352941 0.02745098 0.03137255 0.03529412 0.03921569 0.04313726\n",
      " 0.04705882 0.05098039 0.05490196 0.05882353 0.0627451  0.06666667\n",
      " 0.07058824 0.07450981 0.07843138 0.08235294 0.08627451 0.09019608\n",
      " 0.09411765 0.09803922 0.10196079 0.10588235 0.10980392 0.11372549\n",
      " 0.11764706 0.12156863 0.1254902  0.12941177 0.13333334 0.13725491\n",
      " 0.14117648 0.14509805 0.14901961 0.15294118 0.15686275 0.16078432\n",
      " 0.16470589 0.16862746 0.17254902 0.1764706  0.18039216 0.18431373\n",
      " 0.1882353  0.19215687 0.19607843 0.2        0.20392157 0.20784314\n",
      " 0.21176471 0.21568628 0.21960784 0.22352941 0.22745098 0.23137255\n",
      " 0.23529412 0.23921569 0.24313726 0.24705882 0.2509804  0.25490198\n",
      " 0.25882354 0.2627451  0.26666668 0.27058825 0.27450982 0.2784314\n",
      " 0.28235295 0.28627452 0.2901961  0.29411766 0.29803923 0.3019608\n",
      " 0.30588236 0.30980393 0.3137255  0.31764707 0.32156864 0.3254902\n",
      " 0.32941177 0.33333334 0.3372549  0.34117648 0.34509805 0.34901962\n",
      " 0.3529412  0.35686275 0.36078432 0.3647059  0.36862746 0.37254903\n",
      " 0.3764706  0.38039216 0.38431373 0.3882353  0.39215687 0.39607844\n",
      " 0.4        0.40392157 0.40784314 0.4117647  0.41568628 0.41960785\n",
      " 0.42352942 0.42745098 0.43137255 0.43529412 0.4392157  0.44313726\n",
      " 0.44705883 0.4509804  0.45490196 0.45882353 0.4627451  0.46666667\n",
      " 0.47058824 0.4745098  0.47843137 0.48235294 0.4862745  0.49019608\n",
      " 0.49411765 0.49803922 0.5019608  0.5058824  0.50980395 0.5137255\n",
      " 0.5176471  0.52156866 0.5254902  0.5294118  0.53333336 0.5372549\n",
      " 0.5411765  0.54509807 0.54901963 0.5529412  0.5568628  0.56078434\n",
      " 0.5647059  0.5686275  0.57254905 0.5764706  0.5803922  0.58431375\n",
      " 0.5882353  0.5921569  0.59607846 0.6        0.6039216  0.60784316\n",
      " 0.6117647  0.6156863  0.61960787 0.62352943 0.627451   0.6313726\n",
      " 0.63529414 0.6392157  0.6431373  0.64705884 0.6509804  0.654902\n",
      " 0.65882355 0.6627451  0.6666667  0.67058825 0.6745098  0.6784314\n",
      " 0.68235296 0.6862745  0.6901961  0.69411767 0.69803923 0.7019608\n",
      " 0.7058824  0.70980394 0.7137255  0.7176471  0.72156864 0.7254902\n",
      " 0.7294118  0.73333335 0.7372549  0.7411765  0.74509805 0.7490196\n",
      " 0.7529412  0.75686276 0.7607843  0.7647059  0.76862746 0.77254903\n",
      " 0.7764706  0.78039217 0.78431374 0.7882353  0.7921569  0.79607844\n",
      " 0.8        0.8039216  0.80784315 0.8117647  0.8156863  0.81960785\n",
      " 0.8235294  0.827451   0.83137256 0.8352941  0.8392157  0.84313726\n",
      " 0.84705883 0.8509804  0.85490197 0.85882354 0.8627451  0.8666667\n",
      " 0.87058824 0.8745098  0.8784314  0.88235295 0.8862745  0.8901961\n",
      " 0.89411765 0.8980392  0.9019608  0.90588236 0.9098039  0.9137255\n",
      " 0.91764706 0.92156863 0.9254902  0.92941177]\n"
     ]
    }
   ],
   "source": [
    "print(\"Image data shape is: \", image_dataset.shape)\n",
    "print(\"Mask data shape is: \", mask_dataset.shape)\n",
    "print(\"Max pixel value in image is: \", image_dataset.max())\n",
    "print(\"Max pixel value in mask is: \", mask_dataset.max())\n",
    "print(\"Labels in the mask are : \", np.unique(mask_dataset))"
   ]
  },
  {
   "cell_type": "code",
   "execution_count": 65,
   "metadata": {},
   "outputs": [],
   "source": [
    "from sklearn.model_selection import train_test_split\n",
    "X_train, X_test, y_train, y_test = train_test_split(image_dataset, mask_dataset, test_size = 0.20, random_state = 42)"
   ]
  },
  {
   "cell_type": "code",
   "execution_count": 66,
   "metadata": {},
   "outputs": [
    {
     "data": {
      "image/png": "[encoded data removed]",
      "text/plain": [
       "<Figure size 864x432 with 2 Axes>"
      ]
     },
     "metadata": {
      "needs_background": "light"
     },
     "output_type": "display_data"
    }
   ],
   "source": [
    "#Sanity check, view few mages\n",
    "import random\n",
    "\n",
    "image_number = random.randint(0, len(X_train)-1)\n",
    "plt.figure(figsize=(12, 6))\n",
    "plt.subplot(121)\n",
    "plt.imshow(X_train[image_number,:,:,0], cmap='gray')\n",
    "plt.subplot(122)\n",
    "plt.imshow(y_train[image_number,:,:,0], cmap='gray')\n",
    "plt.show()"
   ]
  },
  {
   "cell_type": "code",
   "execution_count": 183,
   "metadata": {},
   "outputs": [
    {
     "name": "stdout",
     "output_type": "stream",
     "text": [
      "Model: \"model_13\"\n",
      "__________________________________________________________________________________________________\n",
      " Layer (type)                   Output Shape         Param #     Connected to                     \n",
      "==================================================================================================\n",
      " input_14 (InputLayer)          [(None, 16, 16, 3)]  0           []                               \n",
      "                                                                                                  \n",
      " conv2d_247 (Conv2D)            (None, 16, 16, 8)    224         ['input_14[0][0]']               \n",
      "                                                                                                  \n",
      " batch_normalization_156 (Batch  (None, 16, 16, 8)   32          ['conv2d_247[0][0]']             \n",
      " Normalization)                                                                                   \n",
      "                                                                                                  \n",
      " leaky_re_lu_36 (LeakyReLU)     (None, 16, 16, 8)    0           ['batch_normalization_156[0][0]']\n",
      "                                                                                                  \n",
      " conv2d_248 (Conv2D)            (None, 16, 16, 8)    584         ['leaky_re_lu_36[0][0]']         \n",
      "                                                                                                  \n",
      " batch_normalization_157 (Batch  (None, 16, 16, 8)   32          ['conv2d_248[0][0]']             \n",
      " Normalization)                                                                                   \n",
      "                                                                                                  \n",
      " leaky_re_lu_37 (LeakyReLU)     (None, 16, 16, 8)    0           ['batch_normalization_157[0][0]']\n",
      "                                                                                                  \n",
      " max_pooling2d_52 (MaxPooling2D  (None, 8, 8, 8)     0           ['leaky_re_lu_37[0][0]']         \n",
      " )                                                                                                \n",
      "                                                                                                  \n",
      " conv2d_249 (Conv2D)            (None, 8, 8, 16)     1168        ['max_pooling2d_52[0][0]']       \n",
      "                                                                                                  \n",
      " batch_normalization_158 (Batch  (None, 8, 8, 16)    64          ['conv2d_249[0][0]']             \n",
      " Normalization)                                                                                   \n",
      "                                                                                                  \n",
      " leaky_re_lu_38 (LeakyReLU)     (None, 8, 8, 16)     0           ['batch_normalization_158[0][0]']\n",
      "                                                                                                  \n",
      " conv2d_250 (Conv2D)            (None, 8, 8, 16)     2320        ['leaky_re_lu_38[0][0]']         \n",
      "                                                                                                  \n",
      " batch_normalization_159 (Batch  (None, 8, 8, 16)    64          ['conv2d_250[0][0]']             \n",
      " Normalization)                                                                                   \n",
      "                                                                                                  \n",
      " leaky_re_lu_39 (LeakyReLU)     (None, 8, 8, 16)     0           ['batch_normalization_159[0][0]']\n",
      "                                                                                                  \n",
      " max_pooling2d_53 (MaxPooling2D  (None, 4, 4, 16)    0           ['leaky_re_lu_39[0][0]']         \n",
      " )                                                                                                \n",
      "                                                                                                  \n",
      " conv2d_251 (Conv2D)            (None, 4, 4, 32)     4640        ['max_pooling2d_53[0][0]']       \n",
      "                                                                                                  \n",
      " batch_normalization_160 (Batch  (None, 4, 4, 32)    128         ['conv2d_251[0][0]']             \n",
      " Normalization)                                                                                   \n",
      "                                                                                                  \n",
      " leaky_re_lu_40 (LeakyReLU)     (None, 4, 4, 32)     0           ['batch_normalization_160[0][0]']\n",
      "                                                                                                  \n",
      " conv2d_252 (Conv2D)            (None, 4, 4, 32)     9248        ['leaky_re_lu_40[0][0]']         \n",
      "                                                                                                  \n",
      " batch_normalization_161 (Batch  (None, 4, 4, 32)    128         ['conv2d_252[0][0]']             \n",
      " Normalization)                                                                                   \n",
      "                                                                                                  \n",
      " leaky_re_lu_41 (LeakyReLU)     (None, 4, 4, 32)     0           ['batch_normalization_161[0][0]']\n",
      "                                                                                                  \n",
      " max_pooling2d_54 (MaxPooling2D  (None, 2, 2, 32)    0           ['leaky_re_lu_41[0][0]']         \n",
      " )                                                                                                \n",
      "                                                                                                  \n",
      " conv2d_253 (Conv2D)            (None, 2, 2, 64)     18496       ['max_pooling2d_54[0][0]']       \n",
      "                                                                                                  \n",
      " batch_normalization_162 (Batch  (None, 2, 2, 64)    256         ['conv2d_253[0][0]']             \n",
      " Normalization)                                                                                   \n",
      "                                                                                                  \n",
      " leaky_re_lu_42 (LeakyReLU)     (None, 2, 2, 64)     0           ['batch_normalization_162[0][0]']\n",
      "                                                                                                  \n",
      " conv2d_254 (Conv2D)            (None, 2, 2, 64)     36928       ['leaky_re_lu_42[0][0]']         \n",
      "                                                                                                  \n",
      " batch_normalization_163 (Batch  (None, 2, 2, 64)    256         ['conv2d_254[0][0]']             \n",
      " Normalization)                                                                                   \n",
      "                                                                                                  \n",
      " leaky_re_lu_43 (LeakyReLU)     (None, 2, 2, 64)     0           ['batch_normalization_163[0][0]']\n",
      "                                                                                                  \n",
      " max_pooling2d_55 (MaxPooling2D  (None, 1, 1, 64)    0           ['leaky_re_lu_43[0][0]']         \n",
      " )                                                                                                \n",
      "                                                                                                  \n",
      " conv2d_255 (Conv2D)            (None, 1, 1, 128)    73856       ['max_pooling2d_55[0][0]']       \n",
      "                                                                                                  \n",
      " batch_normalization_164 (Batch  (None, 1, 1, 128)   512         ['conv2d_255[0][0]']             \n",
      " Normalization)                                                                                   \n",
      "                                                                                                  \n",
      " leaky_re_lu_44 (LeakyReLU)     (None, 1, 1, 128)    0           ['batch_normalization_164[0][0]']\n",
      "                                                                                                  \n",
      " conv2d_256 (Conv2D)            (None, 1, 1, 128)    147584      ['leaky_re_lu_44[0][0]']         \n",
      "                                                                                                  \n",
      " batch_normalization_165 (Batch  (None, 1, 1, 128)   512         ['conv2d_256[0][0]']             \n",
      " Normalization)                                                                                   \n",
      "                                                                                                  \n",
      " leaky_re_lu_45 (LeakyReLU)     (None, 1, 1, 128)    0           ['batch_normalization_165[0][0]']\n",
      "                                                                                                  \n",
      " conv2d_transpose_52 (Conv2DTra  (None, 2, 2, 64)    73792       ['leaky_re_lu_45[0][0]']         \n",
      " nspose)                                                                                          \n",
      "                                                                                                  \n",
      " batch_normalization_166 (Batch  (None, 2, 2, 64)    256         ['conv2d_transpose_52[0][0]']    \n",
      " Normalization)                                                                                   \n",
      "                                                                                                  \n",
      " concatenate_52 (Concatenate)   (None, 2, 2, 128)    0           ['batch_normalization_166[0][0]',\n",
      "                                                                  'leaky_re_lu_43[0][0]']         \n",
      "                                                                                                  \n",
      " conv2d_257 (Conv2D)            (None, 2, 2, 64)     73792       ['concatenate_52[0][0]']         \n",
      "                                                                                                  \n",
      " batch_normalization_167 (Batch  (None, 2, 2, 64)    256         ['conv2d_257[0][0]']             \n",
      " Normalization)                                                                                   \n",
      "                                                                                                  \n",
      " leaky_re_lu_46 (LeakyReLU)     (None, 2, 2, 64)     0           ['batch_normalization_167[0][0]']\n",
      "                                                                                                  \n",
      " conv2d_258 (Conv2D)            (None, 2, 2, 64)     36928       ['leaky_re_lu_46[0][0]']         \n",
      "                                                                                                  \n",
      " batch_normalization_168 (Batch  (None, 2, 2, 64)    256         ['conv2d_258[0][0]']             \n",
      " Normalization)                                                                                   \n",
      "                                                                                                  \n",
      " leaky_re_lu_47 (LeakyReLU)     (None, 2, 2, 64)     0           ['batch_normalization_168[0][0]']\n",
      "                                                                                                  \n",
      " conv2d_transpose_53 (Conv2DTra  (None, 4, 4, 32)    18464       ['leaky_re_lu_47[0][0]']         \n",
      " nspose)                                                                                          \n",
      "                                                                                                  \n",
      " batch_normalization_169 (Batch  (None, 4, 4, 32)    128         ['conv2d_transpose_53[0][0]']    \n",
      " Normalization)                                                                                   \n",
      "                                                                                                  \n",
      " concatenate_53 (Concatenate)   (None, 4, 4, 64)     0           ['batch_normalization_169[0][0]',\n",
      "                                                                  'leaky_re_lu_41[0][0]']         \n",
      "                                                                                                  \n",
      " conv2d_259 (Conv2D)            (None, 4, 4, 32)     18464       ['concatenate_53[0][0]']         \n",
      "                                                                                                  \n",
      " batch_normalization_170 (Batch  (None, 4, 4, 32)    128         ['conv2d_259[0][0]']             \n",
      " Normalization)                                                                                   \n",
      "                                                                                                  \n",
      " leaky_re_lu_48 (LeakyReLU)     (None, 4, 4, 32)     0           ['batch_normalization_170[0][0]']\n",
      "                                                                                                  \n",
      " conv2d_260 (Conv2D)            (None, 4, 4, 32)     9248        ['leaky_re_lu_48[0][0]']         \n",
      "                                                                                                  \n",
      " batch_normalization_171 (Batch  (None, 4, 4, 32)    128         ['conv2d_260[0][0]']             \n",
      " Normalization)                                                                                   \n",
      "                                                                                                  \n",
      " leaky_re_lu_49 (LeakyReLU)     (None, 4, 4, 32)     0           ['batch_normalization_171[0][0]']\n",
      "                                                                                                  \n",
      " conv2d_transpose_54 (Conv2DTra  (None, 8, 8, 16)    4624        ['leaky_re_lu_49[0][0]']         \n",
      " nspose)                                                                                          \n",
      "                                                                                                  \n",
      " batch_normalization_172 (Batch  (None, 8, 8, 16)    64          ['conv2d_transpose_54[0][0]']    \n",
      " Normalization)                                                                                   \n",
      "                                                                                                  \n",
      " concatenate_54 (Concatenate)   (None, 8, 8, 32)     0           ['batch_normalization_172[0][0]',\n",
      "                                                                  'leaky_re_lu_39[0][0]']         \n",
      "                                                                                                  \n",
      " conv2d_261 (Conv2D)            (None, 8, 8, 16)     4624        ['concatenate_54[0][0]']         \n",
      "                                                                                                  \n",
      " batch_normalization_173 (Batch  (None, 8, 8, 16)    64          ['conv2d_261[0][0]']             \n",
      " Normalization)                                                                                   \n",
      "                                                                                                  \n",
      " leaky_re_lu_50 (LeakyReLU)     (None, 8, 8, 16)     0           ['batch_normalization_173[0][0]']\n",
      "                                                                                                  \n",
      " conv2d_262 (Conv2D)            (None, 8, 8, 16)     2320        ['leaky_re_lu_50[0][0]']         \n",
      "                                                                                                  \n",
      " batch_normalization_174 (Batch  (None, 8, 8, 16)    64          ['conv2d_262[0][0]']             \n",
      " Normalization)                                                                                   \n",
      "                                                                                                  \n",
      " leaky_re_lu_51 (LeakyReLU)     (None, 8, 8, 16)     0           ['batch_normalization_174[0][0]']\n",
      "                                                                                                  \n",
      " conv2d_transpose_55 (Conv2DTra  (None, 16, 16, 8)   1160        ['leaky_re_lu_51[0][0]']         \n",
      " nspose)                                                                                          \n",
      "                                                                                                  \n",
      " batch_normalization_175 (Batch  (None, 16, 16, 8)   32          ['conv2d_transpose_55[0][0]']    \n",
      " Normalization)                                                                                   \n",
      "                                                                                                  \n",
      " concatenate_55 (Concatenate)   (None, 16, 16, 16)   0           ['batch_normalization_175[0][0]',\n",
      "                                                                  'leaky_re_lu_37[0][0]']         \n",
      "                                                                                                  \n",
      " conv2d_263 (Conv2D)            (None, 16, 16, 8)    1160        ['concatenate_55[0][0]']         \n",
      "                                                                                                  \n",
      " batch_normalization_176 (Batch  (None, 16, 16, 8)   32          ['conv2d_263[0][0]']             \n",
      " Normalization)                                                                                   \n",
      "                                                                                                  \n",
      " leaky_re_lu_52 (LeakyReLU)     (None, 16, 16, 8)    0           ['batch_normalization_176[0][0]']\n",
      "                                                                                                  \n",
      " conv2d_264 (Conv2D)            (None, 16, 16, 8)    584         ['leaky_re_lu_52[0][0]']         \n",
      "                                                                                                  \n",
      " batch_normalization_177 (Batch  (None, 16, 16, 8)   32          ['conv2d_264[0][0]']             \n",
      " Normalization)                                                                                   \n",
      "                                                                                                  \n",
      " leaky_re_lu_53 (LeakyReLU)     (None, 16, 16, 8)    0           ['batch_normalization_177[0][0]']\n",
      "                                                                                                  \n",
      " conv2d_265 (Conv2D)            (None, 16, 16, 1)    9           ['leaky_re_lu_53[0][0]']         \n",
      "                                                                                                  \n",
      "==================================================================================================\n",
      "Total params: 543,641\n",
      "Trainable params: 541,929\n",
      "Non-trainable params: 1,712\n",
      "__________________________________________________________________________________________________\n"
     ]
    }
   ],
   "source": [
    "#2eme essai\n",
    "#Batch norm between convolutions\n",
    "\n",
    "def encode(inputs,filter_n, max_pooling=True):\n",
    "    filter= 8\n",
    "    c1= tf.keras.layers.Conv2D(filters = filter*filter_n, kernel_size = 3, kernel_initializer = 'he_normal' , padding = 'same') (inputs)\n",
    "    b1= tf.keras.layers.BatchNormalization()(c1)\n",
    "    l1 = keras.layers.LeakyReLU(0)(b1)\n",
    "    c2= tf.keras.layers.Conv2D(filters = filter*filter_n, kernel_size = 3, kernel_initializer = 'he_normal' , padding = 'same') (l1)\n",
    "    b2= tf.keras.layers.BatchNormalization()(c2)\n",
    "    l2 = keras.layers.LeakyReLU(0)(b2)\n",
    "    if max_pooling :\n",
    "        m1 = tf.keras.layers.MaxPooling2D(pool_size=(2, 2), strides=2)(l2)\n",
    "    else :\n",
    "        m1=0\n",
    "    return l2, m1\n",
    "\n",
    "\n",
    "def decode(inputs_1, inputs_2, filter_n): \n",
    "    filter = 8\n",
    "    ct1 = tf.keras.layers.Conv2DTranspose(filters= filter*filter_n , kernel_size = 3,strides = (2,2), padding = 'same')(inputs_1)\n",
    "    b1= tf.keras.layers.BatchNormalization()(ct1)\n",
    "    ccat1= tf.keras.layers.concatenate([b1, inputs_2])\n",
    "    c1= tf.keras.layers.Conv2D(filters = filter*filter_n, kernel_size = 3, kernel_initializer = 'he_normal' , padding = 'same') (ccat1)\n",
    "    b2= tf.keras.layers.BatchNormalization()(c1)\n",
    "    l1 = keras.layers.LeakyReLU(0)(b2)\n",
    "    c2= tf.keras.layers.Conv2D(filters = filter*filter_n, kernel_size = 3, kernel_initializer = 'he_normal' , activation='relu', padding = 'same') (l1)\n",
    "    b3= tf.keras.layers.BatchNormalization()(c2)\n",
    "    l2 = keras.layers.LeakyReLU(0)(b3)\n",
    "\n",
    "    return l2\n",
    "\n",
    "\n",
    "def unet_model(input_size = (16,16,3)):\n",
    "    inputs = Input(input_size)\n",
    "\n",
    "    #encode\n",
    "    b1, m1 = encode(inputs,1,  max_pooling = True)\n",
    "    b2, m2 = encode(m1, 2,  max_pooling = True)\n",
    "    b3, m3 = encode(m2, 4,  max_pooling = True)\n",
    "    b4 , m4 = encode(m3, 8, max_pooling = True)\n",
    "    b5, m5 = encode(m4,16, max_pooling = False)\n",
    "\n",
    "    #decode\n",
    "    d1= decode(b5,b4, 8)\n",
    "    d2 = decode(d1,b3, 4)\n",
    "    d3 = decode(d2,b2, 2)\n",
    "    d4 = decode(d3,b1, 1)\n",
    "\n",
    "    #output\n",
    "    output_layer= tf.keras.layers.Conv2D(filters=1 ,kernel_size =1, activation = 'sigmoid')(d4)\n",
    "    \n",
    "    model = Model(inputs = [inputs], outputs = [output_layer])\n",
    "    opt = tf.keras.optimizers.Adam(learning_rate=0.0001)\n",
    "    model.compile(optimizer=opt,loss = 'binary_crossentropy', metrics=['Precision', 'Recall', 'accuracy'])\n",
    "\n",
    "    model.summary()\n",
    "    return model\n",
    "\n",
    "model = unet_model()\n",
    "\n"
   ]
  },
  {
   "cell_type": "code",
   "execution_count": 190,
   "metadata": {},
   "outputs": [
    {
     "name": "stdout",
     "output_type": "stream",
     "text": [
      "Epoch 1/20\n",
      "313/313 [==============================] - 21s 68ms/step - loss: 0.4088 - precision: 0.1125 - recall: 6.2439e-04 - accuracy: 0.8139 - val_loss: 0.3965 - val_precision: 0.0349 - val_recall: 4.6583e-05 - val_accuracy: 0.7985\n",
      "Epoch 2/20\n",
      "313/313 [==============================] - 20s 65ms/step - loss: 0.3890 - precision: 0.1120 - recall: 3.5860e-04 - accuracy: 0.8143 - val_loss: 0.3860 - val_precision: 0.0449 - val_recall: 6.2111e-05 - val_accuracy: 0.7985\n",
      "Epoch 3/20\n",
      "313/313 [==============================] - 20s 65ms/step - loss: 0.3739 - precision: 0.1202 - recall: 3.0376e-04 - accuracy: 0.8144 - val_loss: 0.3883 - val_precision: 0.1111 - val_recall: 1.5528e-05 - val_accuracy: 0.7987\n",
      "Epoch 4/20\n",
      "313/313 [==============================] - 20s 64ms/step - loss: 0.3557 - precision: 0.1065 - recall: 1.5188e-04 - accuracy: 0.8146 - val_loss: 0.3779 - val_precision: 0.0250 - val_recall: 1.5528e-05 - val_accuracy: 0.7986\n",
      "Epoch 5/20\n",
      "313/313 [==============================] - 22s 69ms/step - loss: 0.3418 - precision: 0.1927 - recall: 8.8596e-05 - accuracy: 0.8148 - val_loss: 0.3685 - val_precision: 0.0000e+00 - val_recall: 0.0000e+00 - val_accuracy: 0.7987\n",
      "Epoch 6/20\n",
      "313/313 [==============================] - 22s 71ms/step - loss: 0.3320 - precision: 0.5556 - recall: 6.3283e-05 - accuracy: 0.8148 - val_loss: 0.3612 - val_precision: 0.0909 - val_recall: 3.1055e-05 - val_accuracy: 0.7987\n",
      "Epoch 7/20\n",
      "313/313 [==============================] - 21s 68ms/step - loss: 0.3166 - precision: 0.5909 - recall: 5.4845e-05 - accuracy: 0.8148 - val_loss: 0.3706 - val_precision: 0.1000 - val_recall: 4.6583e-05 - val_accuracy: 0.7987\n",
      "Epoch 8/20\n",
      "313/313 [==============================] - 24s 76ms/step - loss: 0.3132 - precision: 0.6500 - recall: 5.4845e-05 - accuracy: 0.8148 - val_loss: 0.3638 - val_precision: 0.1000 - val_recall: 7.7639e-05 - val_accuracy: 0.7986\n",
      "Epoch 9/20\n",
      "313/313 [==============================] - 29s 92ms/step - loss: 0.3073 - precision: 0.5172 - recall: 6.3283e-05 - accuracy: 0.8148 - val_loss: 0.3647 - val_precision: 0.4000 - val_recall: 3.1055e-05 - val_accuracy: 0.7987\n",
      "Epoch 10/20\n",
      "313/313 [==============================] - 27s 87ms/step - loss: 0.2982 - precision: 0.5000 - recall: 6.7501e-05 - accuracy: 0.8148 - val_loss: 0.3631 - val_precision: 0.1000 - val_recall: 3.1055e-05 - val_accuracy: 0.7987\n",
      "Epoch 11/20\n",
      "313/313 [==============================] - 20s 64ms/step - loss: 0.2941 - precision: 0.7273 - recall: 6.7501e-05 - accuracy: 0.8148 - val_loss: 0.3612 - val_precision: 0.1852 - val_recall: 7.7639e-05 - val_accuracy: 0.7987\n",
      "Epoch 12/20\n",
      "313/313 [==============================] - 19s 60ms/step - loss: 0.2854 - precision: 0.7500 - recall: 1.0125e-04 - accuracy: 0.8148 - val_loss: 0.3665 - val_precision: 0.1148 - val_recall: 1.0869e-04 - val_accuracy: 0.7986\n",
      "Epoch 13/20\n",
      "313/313 [==============================] - 19s 61ms/step - loss: 0.2785 - precision: 0.6703 - recall: 2.5735e-04 - accuracy: 0.8148 - val_loss: 0.3640 - val_precision: 0.1667 - val_recall: 1.5528e-04 - val_accuracy: 0.7986\n",
      "Epoch 14/20\n",
      "313/313 [==============================] - 19s 62ms/step - loss: 0.2777 - precision: 0.6948 - recall: 6.2439e-04 - accuracy: 0.8148 - val_loss: 0.3654 - val_precision: 0.4615 - val_recall: 3.7267e-04 - val_accuracy: 0.7987\n",
      "Epoch 15/20\n",
      "313/313 [==============================] - 20s 64ms/step - loss: 0.2740 - precision: 0.7117 - recall: 9.7877e-04 - accuracy: 0.8147 - val_loss: 0.3707 - val_precision: 0.5338 - val_recall: 0.0011 - val_accuracy: 0.7986\n",
      "Epoch 16/20\n",
      "313/313 [==============================] - 22s 72ms/step - loss: 0.2666 - precision: 0.7187 - recall: 0.0014 - accuracy: 0.8147 - val_loss: 0.3715 - val_precision: 0.5615 - val_recall: 0.0011 - val_accuracy: 0.7986\n",
      "Epoch 17/20\n",
      "313/313 [==============================] - 22s 69ms/step - loss: 0.2666 - precision: 0.7105 - recall: 0.0016 - accuracy: 0.8147 - val_loss: 0.3687 - val_precision: 0.5127 - val_recall: 0.0016 - val_accuracy: 0.7984\n",
      "Epoch 18/20\n",
      "313/313 [==============================] - 21s 67ms/step - loss: 0.2612 - precision: 0.7371 - recall: 0.0017 - accuracy: 0.8147 - val_loss: 0.3780 - val_precision: 0.6506 - val_recall: 8.3850e-04 - val_accuracy: 0.7987\n",
      "Epoch 19/20\n",
      "313/313 [==============================] - 22s 72ms/step - loss: 0.2569 - precision: 0.7335 - recall: 0.0067 - accuracy: 0.8144 - val_loss: 0.3690 - val_precision: 0.5979 - val_recall: 0.0187 - val_accuracy: 0.7962\n",
      "Epoch 20/20\n",
      "313/313 [==============================] - 22s 71ms/step - loss: 0.2537 - precision: 0.7499 - recall: 0.0222 - accuracy: 0.8134 - val_loss: 0.3911 - val_precision: 0.6960 - val_recall: 0.0113 - val_accuracy: 0.7978\n"
     ]
    }
   ],
   "source": [
    "history = model.fit(X_train, y_train, \n",
    "                    batch_size = 16, \n",
    "                    verbose=1, \n",
    "                    epochs=20, \n",
    "                    validation_data=(X_test, y_test))"
   ]
  },
  {
   "cell_type": "code",
   "execution_count": 185,
   "metadata": {},
   "outputs": [
    {
     "name": "stdout",
     "output_type": "stream",
     "text": [
      "INFO:tensorflow:Assets written to: Saved_models/assets\n"
     ]
    }
   ],
   "source": [
    "#Save the model for future use\n",
    "model.save(\"Saved_models/\")"
   ]
  },
  {
   "cell_type": "code",
   "execution_count": 191,
   "metadata": {},
   "outputs": [
    {
     "data": {
      "image/png": "[encoded data removed]",
      "text/plain": [
       "<Figure size 432x288 with 1 Axes>"
      ]
     },
     "metadata": {
      "needs_background": "light"
     },
     "output_type": "display_data"
    }
   ],
   "source": [
    "#plot the training and validation accuracy and loss at each epoch\n",
    "loss = history.history['loss']\n",
    "val_loss = history.history['val_loss']\n",
    "epochs = range(1, len(loss) + 1)\n",
    "plt.plot(epochs, loss, 'y', label='Training loss')\n",
    "plt.plot(epochs, val_loss, 'r', label='Validation loss')\n",
    "plt.title('Training and validation loss')\n",
    "plt.xlabel('Epochs')\n",
    "plt.ylabel('Loss')\n",
    "plt.legend()\n",
    "plt.show()\n"
   ]
  },
  {
   "cell_type": "code",
   "execution_count": 194,
   "metadata": {},
   "outputs": [
    {
     "data": {
      "image/png": "[encoded data removed]",
      "text/plain": [
       "<Figure size 432x288 with 1 Axes>"
      ]
     },
     "metadata": {
      "needs_background": "light"
     },
     "output_type": "display_data"
    }
   ],
   "source": [
    "pre= history.history['precision']\n",
    "val_pre = history.history['val_precision']\n",
    "plt.plot(epochs, pre, 'y', label='Training pre')\n",
    "plt.plot(epochs, val_pre, 'r', label='Validation pre')\n",
    "plt.title('Training and validation precision')\n",
    "plt.xlabel('Epochs')\n",
    "plt.ylabel('Precision')\n",
    "plt.legend()\n",
    "plt.show()\n",
    "\n",
    "#overfitting"
   ]
  },
  {
   "cell_type": "code",
   "execution_count": 193,
   "metadata": {},
   "outputs": [
    {
     "data": {
      "image/png": "[encoded data removed]",
      "text/plain": [
       "<Figure size 432x288 with 1 Axes>"
      ]
     },
     "metadata": {
      "needs_background": "light"
     },
     "output_type": "display_data"
    }
   ],
   "source": [
    "acc= history.history['accuracy']\n",
    "val_acc = history.history['val_accuracy']\n",
    "plt.plot(epochs, pre, 'y', label='Training acc')\n",
    "plt.plot(epochs, val_pre, 'r', label='Validation acc')\n",
    "plt.title('Training and validation accuracy')\n",
    "plt.xlabel('Epochs')\n",
    "plt.ylabel('Accuracy')\n",
    "plt.legend()\n",
    "plt.show()\n",
    "\n",
    "#overfitting"
   ]
  },
  {
   "cell_type": "code",
   "execution_count": 139,
   "metadata": {},
   "outputs": [],
   "source": [
    "#IOU\n",
    "y_pred=model.predict(X_test)\n",
    "y_pred_thresholded = y_pred > 0.5"
   ]
  },
  {
   "cell_type": "code",
   "execution_count": 140,
   "metadata": {},
   "outputs": [
    {
     "name": "stdout",
     "output_type": "stream",
     "text": [
      "Mean IoU = 0.43012345\n"
     ]
    }
   ],
   "source": [
    "from tensorflow.keras.metrics import MeanIoU\n",
    "n_classes = 2\n",
    "IOU_keras = MeanIoU(num_classes=n_classes)  \n",
    "IOU_keras.update_state(y_pred_thresholded, y_test)\n",
    "print(\"Mean IoU =\", IOU_keras.result().numpy())"
   ]
  },
  {
   "cell_type": "code",
   "execution_count": 170,
   "metadata": {},
   "outputs": [
    {
     "name": "stdout",
     "output_type": "stream",
     "text": [
      "(1, 16, 16, 3)\n",
      "(16, 16)\n"
     ]
    },
    {
     "data": {
      "image/png": "[encoded data removed]",
      "text/plain": [
       "<Figure size 1152x576 with 3 Axes>"
      ]
     },
     "metadata": {
      "needs_background": "light"
     },
     "output_type": "display_data"
    }
   ],
   "source": [
    "threshold = 0.5\n",
    "test_img_number = random.randint(0, len(X_test)-1)\n",
    "test_img = X_test[test_img_number]\n",
    "ground_truth=y_test[test_img_number]\n",
    "test_img_input=np.expand_dims(test_img, 0)\n",
    "print(test_img_input.shape)\n",
    "prediction = (model.predict(test_img_input)[0,:,:,0] > 0.5).astype(np.uint8)\n",
    "print(prediction.shape)\n",
    "\n",
    "plt.figure(figsize=(16, 8))\n",
    "plt.subplot(231)\n",
    "plt.title('Testing Image')\n",
    "plt.imshow(test_img[:,:,0], cmap='gray')\n",
    "plt.subplot(232)\n",
    "plt.title('Testing Label')\n",
    "plt.imshow(ground_truth[:,:,0], cmap='gray')\n",
    "plt.subplot(233)\n",
    "plt.title('Prediction on test image')\n",
    "plt.imshow(prediction, cmap='gray')\n",
    "\n",
    "plt.show()"
   ]
  }
 ],
 "metadata": {
  "interpreter": {
   "hash": "aee8b7b246df8f9039afb4144a1f6fd8d2ca17a180786b69acc140d282b71a49"
  },
  "kernelspec": {
   "display_name": "Python 3.9.5 64-bit",
   "language": "python",
   "name": "python3"
  },
  "language_info": {
   "codemirror_mode": {
    "name": "ipython",
    "version": 3
   },
   "file_extension": ".py",
   "mimetype": "text/x-python",
   "name": "python",
   "nbconvert_exporter": "python",
   "pygments_lexer": "ipython3",
   "version": "3.9.5"
  },
  "orig_nbformat": 4
 },
 "nbformat": 4,
 "nbformat_minor": 2
}
